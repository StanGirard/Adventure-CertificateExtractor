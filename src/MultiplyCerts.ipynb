{
 "cells": [
  {
   "cell_type": "markdown",
   "metadata": {},
   "source": [
    "## Import Certificates from dump"
   ]
  },
  {
   "cell_type": "code",
   "execution_count": 2,
   "metadata": {
    "ExecuteTime": {
     "end_time": "2019-11-26T10:33:21.122706Z",
     "start_time": "2019-11-26T10:33:19.952971Z"
    }
   },
   "outputs": [],
   "source": [
    "import pandas as pd \n",
    "data = pd.read_csv(\"letsencrypt_multiple_topn.csv\") \n",
    "df_out = data[['n']]"
   ]
  },
  {
   "cell_type": "markdown",
   "metadata": {},
   "source": [
    "## String To Int\n",
    "You must use python3 because as of V3 python doesn't have any maxsize for ints\n",
    "\n",
    "### Multiplying first n/2 and last n/2 together\n",
    "\n",
    "We are multiplying x0*x1*...*xn/2 together and x/2+1*...*xn"
   ]
  },
  {
   "cell_type": "code",
   "execution_count": 3,
   "metadata": {
    "ExecuteTime": {
     "end_time": "2019-11-26T10:33:23.184597Z",
     "start_time": "2019-11-26T10:33:21.124727Z"
    }
   },
   "outputs": [],
   "source": [
    "import timeit\n",
    "import numpy\n",
    "number = df_out['n'].values\n",
    "result1 = 1\n",
    "numberToInt1 = []\n",
    "for i in range(int(len(number) / 2 -1 )):\n",
    "    \n",
    "    inte= int(number[i])\n",
    "    numberToInt1.append(inte)\n",
    "result1 = numpy.prod(numberToInt1)\n",
    "\n"
   ]
  },
  {
   "cell_type": "code",
   "execution_count": 4,
   "metadata": {
    "ExecuteTime": {
     "end_time": "2019-11-26T10:33:25.639296Z",
     "start_time": "2019-11-26T10:33:23.193297Z"
    },
    "scrolled": true
   },
   "outputs": [],
   "source": [
    "result2 = 1\n",
    "numberToInt2 = []\n",
    "\n",
    "for i in range(int(len(number) / 2), int(len(number)) ):\n",
    "    \n",
    "    inte= int(number[i])\n",
    "    numberToInt2.append(inte)\n",
    "result2 = numpy.prod(numberToInt2)"
   ]
  },
  {
   "cell_type": "markdown",
   "metadata": {},
   "source": [
    "## Number of Digits for 1000/2 elements"
   ]
  },
  {
   "cell_type": "code",
   "execution_count": 5,
   "metadata": {
    "ExecuteTime": {
     "end_time": "2019-11-26T10:33:25.656172Z",
     "start_time": "2019-11-26T10:33:25.641466Z"
    }
   },
   "outputs": [
    {
     "name": "stdout",
     "output_type": "stream",
     "text": [
      "565288\n",
      "616461\n"
     ]
    }
   ],
   "source": [
    "import math\n",
    "digits = int(math.log10(result1))+1\n",
    "print(digits)\n",
    "digits2 = int(math.log10(result2))+1\n",
    "print(digits2)\n"
   ]
  },
  {
   "cell_type": "markdown",
   "metadata": {},
   "source": [
    "## Calculating GCD of Number1 & Number2\n",
    "We are calculating the GCD of the two numbers we found from the multiplication of the first and last n/2"
   ]
  },
  {
   "cell_type": "code",
   "execution_count": 6,
   "metadata": {
    "ExecuteTime": {
     "end_time": "2019-11-26T10:33:31.990906Z",
     "start_time": "2019-11-26T10:33:25.668400Z"
    }
   },
   "outputs": [
    {
     "data": {
      "text/plain": [
       "1"
      ]
     },
     "execution_count": 6,
     "metadata": {},
     "output_type": "execute_result"
    }
   ],
   "source": [
    "math.gcd(result1, result2)"
   ]
  },
  {
   "cell_type": "markdown",
   "metadata": {},
   "source": [
    "## Calculating Complexity"
   ]
  },
  {
   "cell_type": "code",
   "execution_count": 206,
   "metadata": {
    "ExecuteTime": {
     "end_time": "2019-11-26T13:49:46.723192Z",
     "start_time": "2019-11-26T13:49:46.674673Z"
    }
   },
   "outputs": [],
   "source": [
    "\n",
    "numbersToInt = []\n",
    "for i in range(int(len(number))):  \n",
    "    inte= int(number[i])\n",
    "    numbersToInt.append(inte)\n",
    "def calculate_complexity(array):\n",
    "    \n",
    "    results = []\n",
    "    for i in array:\n",
    "        list = numbersToInt[:i]\n",
    "        \n",
    "        list1 = list[:int(i/2)]\n",
    "        list2 = list[int(i/2):]\n",
    "        start = timeit.default_timer()\n",
    "        result1 = numpy.prod(list1)\n",
    "        result2 = numpy.prod(list2)\n",
    "        stop = timeit.default_timer()\n",
    "        diff1 = stop - start\n",
    "        start = timeit.default_timer()\n",
    "        result3 = math.gcd(result1, result2)\n",
    "        stop = timeit.default_timer()\n",
    "        diff2 = stop - start\n",
    "        results.append([i, result1, result2, diff1, diff2])\n",
    "    return results\n",
    "        \n",
    "#resultsComplexity = calculate_complexity([4,8, 16, 32, 64, 128, 256, 512, 1000])\n",
    "        \n",
    "        "
   ]
  },
  {
   "cell_type": "code",
   "execution_count": 207,
   "metadata": {
    "ExecuteTime": {
     "end_time": "2019-11-26T13:49:47.075796Z",
     "start_time": "2019-11-26T13:49:47.071053Z"
    },
    "scrolled": true
   },
   "outputs": [],
   "source": [
    "def printComplexity(array):\n",
    "    for i in array[len(array) - 4:]:\n",
    "        print(\"Elements: {}, Time Multiplication: {}, GCD: {} \".format(i[0], i[3], i[4]))\n",
    "#printComplexity(resultsComplexity)"
   ]
  },
  {
   "cell_type": "markdown",
   "metadata": {},
   "source": [
    "## Complexity Results\n",
    "\n",
    "**the multiplication** has a complexity of **X^2** with the numpy & default multiplication\n",
    "**the GCD** has a complexity of **X^2** with the default math.gcd method\n",
    "\n",
    "It is important to look for a more efficient way of multiplying the numbers together and a better gcd method"
   ]
  },
  {
   "cell_type": "markdown",
   "metadata": {
    "ExecuteTime": {
     "end_time": "2019-11-26T13:53:22.303477Z",
     "start_time": "2019-11-26T13:53:22.299954Z"
    }
   },
   "source": [
    "## Optimized GCD Calculation from facthacks"
   ]
  },
  {
   "cell_type": "code",
   "execution_count": 218,
   "metadata": {
    "ExecuteTime": {
     "end_time": "2019-11-26T13:53:32.975953Z",
     "start_time": "2019-11-26T13:53:32.967686Z"
    }
   },
   "outputs": [],
   "source": [
    "def producttree(X):\n",
    "    result = [X]\n",
    "    while len(X) > 1:\n",
    "        X = [numpy.prod(X[int(i*2):int((i+1)*2)]) for i in range(int((len(X)+1)/2))]\n",
    "        result.append(X)\n",
    "    return result\n",
    "\n",
    "def batchgcd_faster(X):\n",
    "    prods = producttree(X)\n",
    "    R = prods.pop()\n",
    "    while prods:\n",
    "        X = prods.pop()\n",
    "        \n",
    "        R = [R[math.floor(i/2)] % X[i]**2 for i in range(len(X))]\n",
    "    return [math.gcd(r//n,n) for r,n in zip(R,X)]"
   ]
  },
  {
   "cell_type": "code",
   "execution_count": 225,
   "metadata": {
    "ExecuteTime": {
     "end_time": "2019-11-26T13:58:01.462237Z",
     "start_time": "2019-11-26T13:58:01.455241Z"
    },
    "scrolled": true
   },
   "outputs": [],
   "source": [
    "def calculate_complexity_product_tree(array):\n",
    "    results = []\n",
    "    for i in array:\n",
    "        lists = numbersToInt[:i]\n",
    "        \n",
    "        list1 = lists[:int(i/2)]\n",
    "        list2 = lists[int(i/2):]\n",
    "        start = timeit.default_timer()\n",
    "        result1 = producttree(list1)\n",
    "        result2 = producttree(list2)\n",
    "        stop = timeit.default_timer()\n",
    "        diff1 = stop - start\n",
    "        start = timeit.default_timer()\n",
    "        firstNumber = result1[0][0]\n",
    "        secondNumber = result2[0][0]\n",
    "        result3 = math.gcd(firstNumber, secondNumber)\n",
    "        \n",
    "        stop = timeit.default_timer()\n",
    "        diff2 = stop - start\n",
    "        results.append([i, diff1, diff2])\n",
    "    \n",
    "    return results\n",
    "#productTreeResults = calculate_complexity_product_tree([4,8, 16, 32, 64, 128, 256, 512, 1000])\n",
    "#printComplexity(productTreeResults)"
   ]
  },
  {
   "cell_type": "code",
   "execution_count": 220,
   "metadata": {
    "ExecuteTime": {
     "end_time": "2019-11-26T13:53:33.998671Z",
     "start_time": "2019-11-26T13:53:33.992441Z"
    }
   },
   "outputs": [],
   "source": [
    "numbersToInt2 = [100,40,13,12,12000,12]\n",
    "\n",
    "def calculate_complexity_batch_gcd(array):\n",
    "    results = []\n",
    "    for i in array:\n",
    "        list1 = numbersToInt[:i]\n",
    "        start = timeit.default_timer()\n",
    "        result1 = batchgcd_faster(list1)\n",
    "        stop = timeit.default_timer()\n",
    "        diff1 = stop - start\n",
    "        results.append([i, diff1,len([x for x in result1 if x != 1])])\n",
    "    return results"
   ]
  },
  {
   "cell_type": "code",
   "execution_count": 221,
   "metadata": {
    "ExecuteTime": {
     "end_time": "2019-11-26T13:53:34.668475Z",
     "start_time": "2019-11-26T13:53:34.663181Z"
    }
   },
   "outputs": [],
   "source": [
    "#result22 = calculate_complexity_batch_gcd([2,4,8,16,32,64,128,256,512])\n",
    "def printComplexityBatch(array):\n",
    "    for i in array[len(array) - 4:]:\n",
    "        print(\"Elements: {}, Time : {}, Not Prime: {} \".format(i[0], i[1], i[2]))\n",
    "#printComplexityBatch(calculate_complexity_batch_gcd([2,4,8,16,32,64,128,256,512]))\n",
    "#print(result22)"
   ]
  },
  {
   "cell_type": "markdown",
   "metadata": {},
   "source": [
    "## Not optimized normal GCD between all "
   ]
  },
  {
   "cell_type": "code",
   "execution_count": 222,
   "metadata": {
    "ExecuteTime": {
     "end_time": "2019-11-26T13:53:35.672534Z",
     "start_time": "2019-11-26T13:53:35.663250Z"
    }
   },
   "outputs": [],
   "source": [
    "def gcd_not_optimal(number1, number2):\n",
    "    return math.gcd(number1, number2)\n",
    "def iterateArrayGcd(array):\n",
    "    results =[]\n",
    "    for i in range(len(array)):\n",
    "        for j in range (i+ 1,len(array)):\n",
    "            resultGCD = math.gcd(array[i], array[j])\n",
    "            if (resultGCD != 1 and resultGCD not in results): results.append(resultGCD)\n",
    "    return results\n",
    "\n",
    "def calculate_complexity_normal_gcd(array):\n",
    "    results = []\n",
    "    for i in array:\n",
    "        list1 = numbersToInt[:i]\n",
    "        start = timeit.default_timer()\n",
    "        result1 = iterateArrayGcd(list1)\n",
    "        stop = timeit.default_timer()\n",
    "        diff1 = stop - start\n",
    "        results.append([i, diff1,len(result1)])\n",
    "    return results\n",
    "def printComplexityNormalGCD(array):\n",
    "    for i in array[len(array) - 4:]:\n",
    "        print(\"Elements: {}, Time : {}, Not Prime: {} \".format(i[0], i[1], i[2]))\n"
   ]
  },
  {
   "cell_type": "markdown",
   "metadata": {},
   "source": [
    "## Comparison Performance of different implementation"
   ]
  },
  {
   "cell_type": "code",
   "execution_count": 228,
   "metadata": {
    "ExecuteTime": {
     "end_time": "2019-11-26T14:00:22.381534Z",
     "start_time": "2019-11-26T14:00:22.376757Z"
    }
   },
   "outputs": [],
   "source": [
    "arrayTest = [2,4,8, 16, 32, 64, 128, 256, 512, 1000]\n"
   ]
  },
  {
   "cell_type": "code",
   "execution_count": 229,
   "metadata": {
    "ExecuteTime": {
     "end_time": "2019-11-26T14:02:15.606292Z",
     "start_time": "2019-11-26T14:00:23.194371Z"
    }
   },
   "outputs": [
    {
     "name": "stdout",
     "output_type": "stream",
     "text": [
      "Individual GCD - Témoin\n",
      "Elements: 128, Time : 0.2859869730000355, Not Prime: 0 \n",
      "Elements: 256, Time : 1.527917764000449, Not Prime: 0 \n",
      "Elements: 512, Time : 7.337907044999156, Not Prime: 0 \n",
      "Elements: 1000, Time : 29.85705569499987, Not Prime: 0 \n",
      "\n",
      " Multiply All together and then GCD\n",
      "Elements: 128, Time Multiplication: 0.032896656999582774, GCD: 0.03999050799939141 \n",
      "Elements: 256, Time Multiplication: 0.19726308999997855, GCD: 0.23899907999839343 \n",
      "Elements: 512, Time Multiplication: 0.9064733429986518, GCD: 1.117600997999034 \n",
      "Elements: 1000, Time Multiplication: 3.728594369000348, GCD: 4.56360691000009 \n",
      "\n",
      " Optimized GCD from facthacks\n",
      "Elements: 128, Time : 0.4237891409993608, Not Prime: 0 \n",
      "Elements: 256, Time : 2.483386656998846, Not Prime: 0 \n",
      "Elements: 512, Time : 11.630187565999222, Not Prime: 0 \n",
      "Elements: 1000, Time : 46.84300744400025, Not Prime: 0 \n",
      "\n",
      " Custom Implementation Pair \n",
      "Elements: 128, Time : 0.01447500299946114, Not Prime: 2.814599974954035e-05 \n",
      "Elements: 256, Time : 0.06136822400003439, Not Prime: 3.805800042755436e-05 \n",
      "Elements: 512, Time : 0.2034562429998914, Not Prime: 4.084000102011487e-05 \n",
      "Elements: 1000, Time : 0.645640741000534, Not Prime: 4.044500019517727e-05 \n"
     ]
    }
   ],
   "source": [
    "print(\"Individual GCD - Témoin\")\n",
    "printComplexityNormalGCD(calculate_complexity_normal_gcd(arrayTest))\n",
    "print(\"\\n Multiply All together and then GCD\")\n",
    "printComplexity(calculate_complexity(arrayTest))\n",
    "\n",
    "print(\"\\n Optimized GCD from facthacks\")\n",
    "printComplexityBatch(calculate_complexity_batch_gcd(arrayTest))\n",
    "\n",
    "print(\"\\n Custom Implementation Pair \")\n",
    "printComplexityBatch(calculate_complexity_product_tree(arrayTest))"
   ]
  },
  {
   "cell_type": "code",
   "execution_count": null,
   "metadata": {},
   "outputs": [],
   "source": []
  }
 ],
 "metadata": {
  "kernelspec": {
   "display_name": "Python 3",
   "language": "python",
   "name": "python3"
  },
  "language_info": {
   "codemirror_mode": {
    "name": "ipython",
    "version": 3
   },
   "file_extension": ".py",
   "mimetype": "text/x-python",
   "name": "python",
   "nbconvert_exporter": "python",
   "pygments_lexer": "ipython3",
   "version": "3.7.5"
  }
 },
 "nbformat": 4,
 "nbformat_minor": 2
}
