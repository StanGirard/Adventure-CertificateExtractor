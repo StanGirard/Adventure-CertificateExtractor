{
 "cells": [
  {
   "cell_type": "markdown",
   "metadata": {},
   "source": [
    "## Import Certificates from dump"
   ]
  },
  {
   "cell_type": "code",
   "execution_count": 1,
   "metadata": {
    "ExecuteTime": {
     "end_time": "2019-11-26T08:31:00.328544Z",
     "start_time": "2019-11-26T08:30:59.293314Z"
    }
   },
   "outputs": [],
   "source": [
    "import pandas as pd \n",
    "data = pd.read_csv(\"letsencrypt_multiple_topn.csv\") \n",
    "df_out = data[['n']]"
   ]
  },
  {
   "cell_type": "markdown",
   "metadata": {},
   "source": [
    "## String To Int\n",
    "You must use python3 because as of V3 python doesn't have any maxsize for ints\n",
    "\n",
    "### Multiplying first n/2 and last n/2 together\n",
    "\n",
    "We are multiplying x0*x1*...*xn/2 together and x/2+1*...*xn"
   ]
  },
  {
   "cell_type": "code",
   "execution_count": 2,
   "metadata": {
    "ExecuteTime": {
     "end_time": "2019-11-26T08:31:02.642286Z",
     "start_time": "2019-11-26T08:31:00.845950Z"
    }
   },
   "outputs": [],
   "source": [
    "import timeit\n",
    "import numpy\n",
    "number = df_out['n'].values\n",
    "result1 = 1\n",
    "numberToInt1 = []\n",
    "for i in range(int(len(number) / 2 -1 )):\n",
    "    \n",
    "    inte= int(number[i])\n",
    "    numberToInt1.append(inte)\n",
    "result1 = numpy.prod(numberToInt1)\n",
    "\n"
   ]
  },
  {
   "cell_type": "code",
   "execution_count": 3,
   "metadata": {
    "ExecuteTime": {
     "end_time": "2019-11-26T08:31:04.824742Z",
     "start_time": "2019-11-26T08:31:02.646514Z"
    },
    "scrolled": true
   },
   "outputs": [],
   "source": [
    "result2 = 1\n",
    "numberToInt2 = []\n",
    "\n",
    "for i in range(int(len(number) / 2), int(len(number)) ):\n",
    "    \n",
    "    inte= int(number[i])\n",
    "    numberToInt2.append(inte)\n",
    "result2 = numpy.prod(numberToInt2)"
   ]
  },
  {
   "cell_type": "markdown",
   "metadata": {},
   "source": [
    "## Number of Digits for 1000/2 elements"
   ]
  },
  {
   "cell_type": "code",
   "execution_count": 4,
   "metadata": {
    "ExecuteTime": {
     "end_time": "2019-11-26T08:31:04.836159Z",
     "start_time": "2019-11-26T08:31:04.828820Z"
    }
   },
   "outputs": [
    {
     "name": "stdout",
     "output_type": "stream",
     "text": [
      "565288\n",
      "616461\n"
     ]
    }
   ],
   "source": [
    "import math\n",
    "digits = int(math.log10(result1))+1\n",
    "print(digits)\n",
    "digits2 = int(math.log10(result2))+1\n",
    "print(digits2)\n"
   ]
  },
  {
   "cell_type": "markdown",
   "metadata": {},
   "source": [
    "## Calculating GCD of Number1 & Number2\n",
    "We are calculating the GCD of the two numbers we found from the multiplication of the first and last n/2"
   ]
  },
  {
   "cell_type": "code",
   "execution_count": 5,
   "metadata": {
    "ExecuteTime": {
     "end_time": "2019-11-26T08:31:09.862492Z",
     "start_time": "2019-11-26T08:31:04.838563Z"
    }
   },
   "outputs": [
    {
     "data": {
      "text/plain": [
       "1"
      ]
     },
     "execution_count": 5,
     "metadata": {},
     "output_type": "execute_result"
    }
   ],
   "source": [
    "math.gcd(result1, result2)"
   ]
  },
  {
   "cell_type": "markdown",
   "metadata": {},
   "source": [
    "## Calculating Complexity"
   ]
  },
  {
   "cell_type": "code",
   "execution_count": 6,
   "metadata": {
    "ExecuteTime": {
     "end_time": "2019-11-26T08:31:21.738892Z",
     "start_time": "2019-11-26T08:31:09.865058Z"
    }
   },
   "outputs": [
    {
     "name": "stdout",
     "output_type": "stream",
     "text": [
      "[4, 8, 16, 32, 64, 128, 256, 512, 1000]\n"
     ]
    }
   ],
   "source": [
    "\n",
    "numbersToInt = []\n",
    "for i in range(int(len(number))):  \n",
    "    inte= int(number[i])\n",
    "    numbersToInt.append(inte)\n",
    "def calculate_complexity(array):\n",
    "    print(array)\n",
    "    results = []\n",
    "    for i in array:\n",
    "        list = numbersToInt[:i]\n",
    "        \n",
    "        list1 = list[:int(i/2)]\n",
    "        list2 = list[int(i/2):]\n",
    "        start = timeit.default_timer()\n",
    "        result1 = numpy.prod(list1)\n",
    "        result2 = numpy.prod(list2)\n",
    "        stop = timeit.default_timer()\n",
    "        diff1 = stop - start\n",
    "        start = timeit.default_timer()\n",
    "        result3 = math.gcd(result1, result2)\n",
    "        stop = timeit.default_timer()\n",
    "        diff2 = stop - start\n",
    "        results.append([i, result1, result2, diff1, diff2])\n",
    "    return results\n",
    "        \n",
    "resultsComplexity = calculate_complexity([4,8, 16, 32, 64, 128, 256, 512, 1000])\n",
    "        \n",
    "        \n",
    "        "
   ]
  },
  {
   "cell_type": "code",
   "execution_count": 7,
   "metadata": {
    "ExecuteTime": {
     "end_time": "2019-11-26T08:31:21.747677Z",
     "start_time": "2019-11-26T08:31:21.742310Z"
    }
   },
   "outputs": [
    {
     "name": "stdout",
     "output_type": "stream",
     "text": [
      "Elements: 4, Time Multiplication: 0.0001115389999988281, GCD: 7.740199999872743e-05 \n",
      "Elements: 8, Time Multiplication: 0.00018343600000036986, GCD: 0.0003558609999991802 \n",
      "Elements: 16, Time Multiplication: 0.000755700000000914, GCD: 0.0009363079999999968 \n",
      "Elements: 32, Time Multiplication: 0.002459417000000741, GCD: 0.0037624959999984497 \n",
      "Elements: 64, Time Multiplication: 0.009364012999999005, GCD: 0.009840073000001226 \n",
      "Elements: 128, Time Multiplication: 0.038552194000001094, GCD: 0.04254131099999903 \n",
      "Elements: 256, Time Multiplication: 0.20708459299999937, GCD: 0.2477861620000006 \n",
      "Elements: 512, Time Multiplication: 0.9879065799999971, GCD: 1.216848983000002 \n",
      "Elements: 1000, Time Multiplication: 4.027869651, GCD: 5.0536933059999996 \n"
     ]
    }
   ],
   "source": [
    "def printComplexity(array):\n",
    "    for i in array:\n",
    "        print(\"Elements: {}, Time Multiplication: {}, GCD: {} \".format(i[0], i[3], i[4]))\n",
    "printComplexity(resultsComplexity)"
   ]
  },
  {
   "cell_type": "markdown",
   "metadata": {},
   "source": [
    "## Complexity Results\n",
    "\n",
    "**the multiplication** has a complexity of **X^2** with the numpy & default multiplication\n",
    "**the GCD** has a complexity of **X^2** with the default math.gcd method\n",
    "\n",
    "It is important to look for a more efficient way of multiplying the numbers together and a better gcd method"
   ]
  },
  {
   "cell_type": "code",
   "execution_count": null,
   "metadata": {},
   "outputs": [],
   "source": []
  },
  {
   "cell_type": "code",
   "execution_count": null,
   "metadata": {},
   "outputs": [],
   "source": []
  }
 ],
 "metadata": {
  "kernelspec": {
   "display_name": "Python 3",
   "language": "python",
   "name": "python3"
  },
  "language_info": {
   "codemirror_mode": {
    "name": "ipython",
    "version": 3
   },
   "file_extension": ".py",
   "mimetype": "text/x-python",
   "name": "python",
   "nbconvert_exporter": "python",
   "pygments_lexer": "ipython3",
   "version": "3.7.5"
  }
 },
 "nbformat": 4,
 "nbformat_minor": 2
}
