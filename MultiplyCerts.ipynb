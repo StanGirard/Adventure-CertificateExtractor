{
 "cells": [
  {
   "cell_type": "markdown",
   "metadata": {},
   "source": [
    "## Import Certificates from dump"
   ]
  },
  {
   "cell_type": "code",
   "execution_count": 137,
   "metadata": {
    "ExecuteTime": {
     "end_time": "2019-11-25T15:41:22.513112Z",
     "start_time": "2019-11-25T15:41:22.407697Z"
    }
   },
   "outputs": [],
   "source": [
    "import pandas as pd \n",
    "data = pd.read_csv(\"letsencrypt_multiple_topn.csv\") \n",
    "df_out = data[['n']]"
   ]
  },
  {
   "cell_type": "markdown",
   "metadata": {},
   "source": [
    "## String To Int\n",
    "You must use python3 because as of V3 python doesn't have any maxsize for ints\n",
    "\n",
    "### Multiplying first n/2 and last n/2 together\n",
    "\n",
    "We are multiplying x0*x1*...*xn/2 together and x/2+1*...*xn"
   ]
  },
  {
   "cell_type": "code",
   "execution_count": 147,
   "metadata": {
    "ExecuteTime": {
     "end_time": "2019-11-25T15:45:44.893885Z",
     "start_time": "2019-11-25T15:45:42.758672Z"
    }
   },
   "outputs": [],
   "source": [
    "import timeit\n",
    "import numpy\n",
    "number = df_out['n'].values\n",
    "result1 = 1\n",
    "numberToInt1 = []\n",
    "for i in range(int(len(number) / 2 -1 )):\n",
    "    \n",
    "    inte= int(number[i])\n",
    "    numberToInt1.append(inte)\n",
    "result1 = numpy.prod(numberToInt1)\n",
    "\n"
   ]
  },
  {
   "cell_type": "code",
   "execution_count": 148,
   "metadata": {
    "ExecuteTime": {
     "end_time": "2019-11-25T15:45:48.920615Z",
     "start_time": "2019-11-25T15:45:46.251539Z"
    },
    "scrolled": true
   },
   "outputs": [],
   "source": [
    "result2 = 1\n",
    "numberToInt2 = []\n",
    "\n",
    "for i in range(int(len(number) / 2), int(len(number)) ):\n",
    "    \n",
    "    inte= int(number[i])\n",
    "    numberToInt2.append(inte)\n",
    "result2 = numpy.prod(numberToInt2)"
   ]
  },
  {
   "cell_type": "markdown",
   "metadata": {},
   "source": [
    "## Number of Digits for 1000/2 elements"
   ]
  },
  {
   "cell_type": "code",
   "execution_count": 140,
   "metadata": {
    "ExecuteTime": {
     "end_time": "2019-11-25T15:41:31.565918Z",
     "start_time": "2019-11-25T15:41:31.553568Z"
    }
   },
   "outputs": [
    {
     "name": "stdout",
     "output_type": "stream",
     "text": [
      "565288\n",
      "616461\n"
     ]
    }
   ],
   "source": [
    "import math\n",
    "digits = int(math.log10(result1))+1\n",
    "print(digits)\n",
    "digits2 = int(math.log10(result2))+1\n",
    "print(digits2)\n"
   ]
  },
  {
   "cell_type": "markdown",
   "metadata": {},
   "source": [
    "## Calculating GCD of Number1 & Number2\n",
    "We are calculating the GCD of the two numbers we found from the multiplication of the first and last n/2"
   ]
  },
  {
   "cell_type": "code",
   "execution_count": 141,
   "metadata": {
    "ExecuteTime": {
     "end_time": "2019-11-25T15:41:44.222303Z",
     "start_time": "2019-11-25T15:41:38.649492Z"
    }
   },
   "outputs": [
    {
     "data": {
      "text/plain": [
       "1"
      ]
     },
     "execution_count": 141,
     "metadata": {},
     "output_type": "execute_result"
    }
   ],
   "source": [
    "math.gcd(result1, result2)"
   ]
  },
  {
   "cell_type": "markdown",
   "metadata": {},
   "source": [
    "## Calculating Complexity"
   ]
  },
  {
   "cell_type": "code",
   "execution_count": 142,
   "metadata": {
    "ExecuteTime": {
     "end_time": "2019-11-25T15:41:57.604813Z",
     "start_time": "2019-11-25T15:41:44.238224Z"
    }
   },
   "outputs": [
    {
     "name": "stdout",
     "output_type": "stream",
     "text": [
      "[4, 8, 16, 32, 64, 128, 256, 512, 1000]\n"
     ]
    }
   ],
   "source": [
    "\n",
    "numbersToInt = []\n",
    "for i in range(int(len(number))):  \n",
    "    inte= int(number[i])\n",
    "    numbersToInt.append(inte)\n",
    "def calculate_complexity(array):\n",
    "    print(array)\n",
    "    results = []\n",
    "    for i in array:\n",
    "        list = numbersToInt[:i]\n",
    "        \n",
    "        list1 = list[:int(i/2)]\n",
    "        list2 = list[int(i/2):]\n",
    "        start = timeit.default_timer()\n",
    "        result1 = numpy.prod(list1)\n",
    "        result2 = numpy.prod(list2)\n",
    "        stop = timeit.default_timer()\n",
    "        diff1 = stop - start\n",
    "        start = timeit.default_timer()\n",
    "        result3 = math.gcd(result1, result2)\n",
    "        stop = timeit.default_timer()\n",
    "        diff2 = stop - start\n",
    "        results.append([i, result1, result2, diff1, diff2])\n",
    "    return results\n",
    "        \n",
    "resultsComplexity = calculate_complexity([4,8, 16, 32, 64, 128, 256, 512, 1000])\n",
    "        \n",
    "        \n",
    "        "
   ]
  },
  {
   "cell_type": "code",
   "execution_count": 143,
   "metadata": {
    "ExecuteTime": {
     "end_time": "2019-11-25T15:41:57.648297Z",
     "start_time": "2019-11-25T15:41:57.611207Z"
    }
   },
   "outputs": [
    {
     "name": "stdout",
     "output_type": "stream",
     "text": [
      "Elements: 4, Time Multiplication: 0.00015913500010356074, GCD: 0.00013404499986791052 \n",
      "Elements: 8, Time Multiplication: 0.00033784399965952616, GCD: 0.00031350599965662695 \n",
      "Elements: 16, Time Multiplication: 0.000910523000129615, GCD: 0.0009955420000551385 \n",
      "Elements: 32, Time Multiplication: 0.0030260419998739962, GCD: 0.0032278979997499846 \n",
      "Elements: 64, Time Multiplication: 0.011085190999438055, GCD: 0.010909695000009378 \n",
      "Elements: 128, Time Multiplication: 0.04433604499990906, GCD: 0.049944256999879144 \n",
      "Elements: 256, Time Multiplication: 0.2419189580004968, GCD: 0.3394649649999337 \n",
      "Elements: 512, Time Multiplication: 1.1952520469994852, GCD: 1.459997843000565 \n",
      "Elements: 1000, Time Multiplication: 4.4417237260004185, GCD: 5.4985577190000186 \n"
     ]
    }
   ],
   "source": [
    "def printComplexity(array):\n",
    "    for i in array:\n",
    "        print(\"Elements: {}, Time Multiplication: {}, GCD: {} \".format(i[0], i[3], i[4]))\n",
    "printComplexity(resultsComplexity)"
   ]
  },
  {
   "cell_type": "markdown",
   "metadata": {},
   "source": [
    "## Complexity Results\n",
    "\n",
    "**the multiplication** has a complexity of **X^2** with the numpy & default multiplication\n",
    "**the GCD** has a complexity of **X^2** with the default math.gcd method\n",
    "\n",
    "It is important to look for a more efficient way of multiplying the numbers together and a better gcd method"
   ]
  },
  {
   "cell_type": "code",
   "execution_count": null,
   "metadata": {},
   "outputs": [],
   "source": []
  }
 ],
 "metadata": {
  "kernelspec": {
   "display_name": "Python 3",
   "language": "python",
   "name": "python3"
  },
  "language_info": {
   "codemirror_mode": {
    "name": "ipython",
    "version": 3
   },
   "file_extension": ".py",
   "mimetype": "text/x-python",
   "name": "python",
   "nbconvert_exporter": "python",
   "pygments_lexer": "ipython3",
   "version": "3.7.5"
  }
 },
 "nbformat": 4,
 "nbformat_minor": 2
}
