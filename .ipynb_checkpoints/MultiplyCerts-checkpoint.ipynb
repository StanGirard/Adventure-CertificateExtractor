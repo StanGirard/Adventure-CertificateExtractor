{
 "cells": [
  {
   "cell_type": "code",
   "execution_count": 3,
   "metadata": {
    "ExecuteTime": {
     "end_time": "2019-11-25T13:37:44.167667Z",
     "start_time": "2019-11-25T13:37:44.140859Z"
    }
   },
   "outputs": [],
   "source": [
    "import pandas as pd \n",
    "data = pd.read_csv(\"letsencrypt_multiple_topn.csv\") \n",
    "df_out = data[['n']]"
   ]
  },
  {
   "cell_type": "code",
   "execution_count": 5,
   "metadata": {
    "ExecuteTime": {
     "end_time": "2019-11-25T13:38:05.541248Z",
     "start_time": "2019-11-25T13:38:05.531973Z"
    }
   },
   "outputs": [
    {
     "data": {
      "text/plain": [
       "<bound method NDFrame.head of                                                      n\n",
       "0    1849063027679726015336746511567261828618310108...\n",
       "1    2168493281243233964648568328965544829676354015...\n",
       "2    1624810723773114008617143208703594696411555679...\n",
       "3    2728415049953714678995215470641461341335779120...\n",
       "4    1870776034712194315011624989112520185903640302...\n",
       "..                                                 ...\n",
       "995  9147628350243574736516849022447240038425992012...\n",
       "996  7624218432170248728775996651751553957201952267...\n",
       "997  9147671060493634792008458046962521496028834619...\n",
       "998  7624233405994804773747299940956178030447346646...\n",
       "999  9147738712618130234491524875375154656909799938...\n",
       "\n",
       "[1000 rows x 1 columns]>"
      ]
     },
     "execution_count": 5,
     "metadata": {},
     "output_type": "execute_result"
    }
   ],
   "source": [
    "df_out.head"
   ]
  },
  {
   "cell_type": "code",
   "execution_count": 100,
   "metadata": {
    "ExecuteTime": {
     "end_time": "2019-11-25T14:43:06.043040Z",
     "start_time": "2019-11-25T14:43:04.327497Z"
    }
   },
   "outputs": [
    {
     "name": "stdout",
     "output_type": "stream",
     "text": [
      "499.0\n"
     ]
    }
   ],
   "source": [
    "import timeit\n",
    "import numpy\n",
    "number = df_out['n'].values\n",
    "result1 = 1\n",
    "numberToInt1 = []\n",
    "print(df_out.shape[0] / 2 -1)\n",
    "for i in range(int(len(number) / 2 -1 )):\n",
    "    \n",
    "    inte= int(number[i])\n",
    "    numberToInt1.append(inte)\n",
    "result1 = numpy.prod(numberToInt1)\n",
    "\n"
   ]
  },
  {
   "cell_type": "code",
   "execution_count": 91,
   "metadata": {
    "ExecuteTime": {
     "end_time": "2019-11-25T14:40:12.328775Z",
     "start_time": "2019-11-25T14:40:10.244449Z"
    },
    "scrolled": true
   },
   "outputs": [
    {
     "name": "stdout",
     "output_type": "stream",
     "text": [
      "499.0\n"
     ]
    }
   ],
   "source": [
    "result2 = 1\n",
    "numberToInt2 = []\n",
    "print(df_out.shape[0] / 2 -1)\n",
    "for i in range(int(len(number) / 2), int(len(number)) ):\n",
    "    \n",
    "    inte= int(number[i])\n",
    "    numberToInt2.append(inte)\n",
    "result2 = numpy.prod(numberToInt2)"
   ]
  },
  {
   "cell_type": "code",
   "execution_count": 92,
   "metadata": {
    "ExecuteTime": {
     "end_time": "2019-11-25T14:40:12.344733Z",
     "start_time": "2019-11-25T14:40:12.332500Z"
    }
   },
   "outputs": [
    {
     "name": "stdout",
     "output_type": "stream",
     "text": [
      "565288\n",
      "616461\n"
     ]
    }
   ],
   "source": [
    "import math\n",
    "digits = int(math.log10(result1))+1\n",
    "print(digits)\n",
    "digits2 = int(math.log10(result2))+1\n",
    "print(digits2)\n"
   ]
  },
  {
   "cell_type": "code",
   "execution_count": 96,
   "metadata": {
    "ExecuteTime": {
     "end_time": "2019-11-25T14:42:18.276759Z",
     "start_time": "2019-11-25T14:42:13.569647Z"
    }
   },
   "outputs": [
    {
     "data": {
      "text/plain": [
       "1"
      ]
     },
     "execution_count": 96,
     "metadata": {},
     "output_type": "execute_result"
    }
   ],
   "source": [
    "math.gcd(result1, result2)"
   ]
  },
  {
   "cell_type": "code",
   "execution_count": 133,
   "metadata": {
    "ExecuteTime": {
     "end_time": "2019-11-25T14:57:44.430436Z",
     "start_time": "2019-11-25T14:57:35.763811Z"
    }
   },
   "outputs": [
    {
     "name": "stdout",
     "output_type": "stream",
     "text": [
      "[10, 100, 1000]\n",
      "10\n",
      "100\n",
      "1000\n"
     ]
    }
   ],
   "source": [
    "import itertools\n",
    "numbersToInt = []\n",
    "for i in range(int(len(number))):  \n",
    "    inte= int(number[i])\n",
    "    numbersToInt.append(inte)\n",
    "def calculate_complexity(array):\n",
    "    print(array)\n",
    "    results = []\n",
    "    for i in array:\n",
    "        list = numbersToInt[:i]\n",
    "        \n",
    "        list1 = list[:int(i/2)]\n",
    "        list2 = list[int(i/2):]\n",
    "        start = timeit.default_timer()\n",
    "        result1 = numpy.prod(list1)\n",
    "        result2 = numpy.prod(list2)\n",
    "        stop = timeit.default_timer()\n",
    "        diff1 = stop - start\n",
    "        start = timeit.default_timer()\n",
    "        result3 = math.gcd(result1, result2)\n",
    "        stop = timeit.default_timer()\n",
    "        diff2 = stop - start\n",
    "        results.append([i, result1, result2, diff1, diff2])\n",
    "    return results\n",
    "        \n",
    "resultsComplexity = calculate_complexity([10,100, 1000])\n",
    "        \n",
    "        \n",
    "        "
   ]
  },
  {
   "cell_type": "code",
   "execution_count": null,
   "metadata": {},
   "outputs": [],
   "source": [
    "def printComplexity(array):\n",
    "    for i in array:\n",
    "        print(\"Elements: {}, Time Multiplication: {}, GCD: {} \".format(i[0], i[3], i[4]))"
   ]
  }
 ],
 "metadata": {
  "kernelspec": {
   "display_name": "Python 3",
   "language": "python",
   "name": "python3"
  },
  "language_info": {
   "codemirror_mode": {
    "name": "ipython",
    "version": 3
   },
   "file_extension": ".py",
   "mimetype": "text/x-python",
   "name": "python",
   "nbconvert_exporter": "python",
   "pygments_lexer": "ipython3",
   "version": "3.7.5"
  }
 },
 "nbformat": 4,
 "nbformat_minor": 2
}
